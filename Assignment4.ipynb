{
 "cells": [
  {
   "cell_type": "markdown",
   "id": "62293469-a905-43fe-90ec-691530fbd902",
   "metadata": {},
   "source": [
    "Q.1 Write a program to create a NumPy 1D-array with 5 elements and perform basic\n",
    "operations like:\n",
    "a) Addition of 2 in all the element\n",
    "b) Multiply 3 with all the elements\n",
    "c) Divide every element by 2"
   ]
  },
  {
   "cell_type": "code",
   "execution_count": 2,
   "id": "dfcb3d7b-8ca1-42d7-8014-d578d19c2ee4",
   "metadata": {},
   "outputs": [
    {
     "name": "stdout",
     "output_type": "stream",
     "text": [
      "[2 3 4 5 6]\n"
     ]
    }
   ],
   "source": [
    "import numpy as np\n",
    "\n",
    "a = np.array([0,1,2,3,4])\n",
    "\n",
    "# Addition of 2 in all the element\n",
    "a = a+2\n",
    "print(a)"
   ]
  },
  {
   "cell_type": "code",
   "execution_count": 3,
   "id": "58009ce6-1fdc-48eb-9ace-5fd1c50a27bd",
   "metadata": {},
   "outputs": [
    {
     "name": "stdout",
     "output_type": "stream",
     "text": [
      "[ 4  6  8 10 12]\n"
     ]
    }
   ],
   "source": [
    "# Multiply 3 with all the elements\n",
    "\n",
    "a = a*2\n",
    "print(a)"
   ]
  },
  {
   "cell_type": "code",
   "execution_count": 4,
   "id": "d9fc88af-e1f8-4338-ad8c-a559b8f65aff",
   "metadata": {},
   "outputs": [
    {
     "name": "stdout",
     "output_type": "stream",
     "text": [
      "[2. 3. 4. 5. 6.]\n"
     ]
    }
   ],
   "source": [
    "# Divide every element by 2\n",
    "\n",
    "a = a/2\n",
    "print(a)"
   ]
  },
  {
   "cell_type": "markdown",
   "id": "b7a6aa9a-4d43-4e60-abc6-70ada7a5e5e9",
   "metadata": {},
   "source": [
    "Q.2 Questions on Basic NumPy Array:\n",
    "a) Reverse the NumPy array: arr = np.array([1,2,3,6,4,5])\n",
    "b) Find the most frequent value and their indice(s) in the following arrays:\n",
    "i. x = np.array([1,2,3,4,5,1,2,1,1,1])\n",
    "ii. y = np.array([1, 1, 1, 2, 3, 4, 2, 4, 3, 3, ])"
   ]
  },
  {
   "cell_type": "code",
   "execution_count": 5,
   "id": "971bca8d-85fe-440c-b571-aacf50d1d407",
   "metadata": {},
   "outputs": [
    {
     "name": "stdout",
     "output_type": "stream",
     "text": [
      "Before reversing the array :  [1 2 3 6 4 5]\n",
      "After reversing the array :  [5 4 6 3 2 1]\n"
     ]
    }
   ],
   "source": [
    "# a) Reverse the NumPy array: arr = np.array([1,2,3,6,4,5])\n",
    "\n",
    "arr = np.array([1,2,3,6,4,5])\n",
    "print(f\"Before reversing the array : \",arr)\n",
    "\n",
    "arr1 = np.flip(arr)\n",
    "print(f\"After reversing the array : \",arr1)"
   ]
  },
  {
   "cell_type": "code",
   "execution_count": 6,
   "id": "42c3ff99-6780-4562-97c2-c1bb8b039cc7",
   "metadata": {},
   "outputs": [
    {
     "name": "stdout",
     "output_type": "stream",
     "text": [
      "Most frequent occuring element in the array is :  [1]\n",
      "Indices where most frequent occuring element exist :  (array([0, 5, 7, 8, 9]),)\n"
     ]
    }
   ],
   "source": [
    "# b) i. x = np.array([1,2,3,4,5,1,2,1,1,1])\n",
    "\n",
    "x = np.array([1,2,3,4,5,1,2,1,1,1])\n",
    "\n",
    "unique,counts = np.unique(x,return_counts=True)\n",
    "most_frequent = np.where(counts==max(counts))\n",
    "print(f\"Most frequent occuring element in the array is : \",unique[most_frequent])\n",
    "print(f\"Indices where most frequent occuring element exist : \",np.where(x==unique[most_frequent]))"
   ]
  },
  {
   "cell_type": "code",
   "execution_count": 7,
   "id": "6a14df71-6196-4b61-ab0d-548d4e5cf5db",
   "metadata": {},
   "outputs": [
    {
     "name": "stdout",
     "output_type": "stream",
     "text": [
      "Most frequent occuring element in the array is :  [1 3]\n",
      "Indices where most frequent occuring element exist :  (array([0, 1, 2]),)\n"
     ]
    }
   ],
   "source": [
    "# b) ii. y = np.array([1, 1, 1, 2, 3, 4, 2, 4, 3, 3, ])\n",
    "\n",
    "y = np.array([1,1,1,2,3,4,2,4,3,3])\n",
    "\n",
    "unique,counts = np.unique(y,return_counts=True)\n",
    "\n",
    "most_frequent = np.where(counts==max(counts))\n",
    "print(f\"Most frequent occuring element in the array is : \",unique[most_frequent])\n",
    "print(f\"Indices where most frequent occuring element exist : \",np.where(y==unique[most_frequent][0]))"
   ]
  },
  {
   "cell_type": "markdown",
   "id": "d4745984-3e6e-4819-9c2a-fa66d641cf41",
   "metadata": {},
   "source": [
    "Q.3 For the given 2-D array arr=np.array([10, 20, 30], [40, 50, 60], [70, 80, 90]), access\n",
    "elements using row and column indices as follows:\n",
    "a) Access 1st row, 2nd column\n",
    "b) Access 3rd row, 1st column"
   ]
  },
  {
   "cell_type": "code",
   "execution_count": 8,
   "id": "45fa50e5-6ca1-41d5-89f2-41316fb48bd9",
   "metadata": {},
   "outputs": [
    {
     "name": "stdout",
     "output_type": "stream",
     "text": [
      "20\n",
      "70\n"
     ]
    }
   ],
   "source": [
    "arr = np.array([[10,20,30],[40,50,60],[70,80,90]])\n",
    "\n",
    "print(arr[0][1])\n",
    "print(arr[2][0])"
   ]
  },
  {
   "cell_type": "markdown",
   "id": "a16a2919-4430-451a-8ac0-b36764788986",
   "metadata": {},
   "source": [
    "Q.4 Write program to create an 1-D NumPy array named <<Your Name>> with evenly\n",
    "spaced 25 numbers from 10 to 100 using linspace(). Print the dimensions of the array,\n",
    "shape, total elements, the data type of each element and total number of bytes consumed\n",
    "by the array. Find the transpose of this array using reshape() attribute. Can we do the same\n",
    "with T attribute?"
   ]
  },
  {
   "cell_type": "code",
   "execution_count": 11,
   "id": "13161218-bee8-4c91-be0e-f2353fb0548d",
   "metadata": {},
   "outputs": [
    {
     "name": "stdout",
     "output_type": "stream",
     "text": [
      "[ 10.    13.75  17.5   21.25  25.    28.75  32.5   36.25  40.    43.75\n",
      "  47.5   51.25  55.    58.75  62.5   66.25  70.    73.75  77.5   81.25\n",
      "  85.    88.75  92.5   96.25 100.  ]\n",
      "Dimension of this array is :  1\n",
      "Shape of this array is :  (25,)\n",
      "Total elements in this array is :  25\n",
      "Data type of elements in this array is :  float64\n",
      "Total number of bytes in this array is :  200\n",
      "\n",
      "Printing transpose of this matrix : \n",
      "\n",
      "[[ 10.  ]\n",
      " [ 13.75]\n",
      " [ 17.5 ]\n",
      " [ 21.25]\n",
      " [ 25.  ]\n",
      " [ 28.75]\n",
      " [ 32.5 ]\n",
      " [ 36.25]\n",
      " [ 40.  ]\n",
      " [ 43.75]\n",
      " [ 47.5 ]\n",
      " [ 51.25]\n",
      " [ 55.  ]\n",
      " [ 58.75]\n",
      " [ 62.5 ]\n",
      " [ 66.25]\n",
      " [ 70.  ]\n",
      " [ 73.75]\n",
      " [ 77.5 ]\n",
      " [ 81.25]\n",
      " [ 85.  ]\n",
      " [ 88.75]\n",
      " [ 92.5 ]\n",
      " [ 96.25]\n",
      " [100.  ]]\n",
      "[[ 10.    13.75  17.5   21.25  25.    28.75  32.5   36.25  40.    43.75\n",
      "   47.5   51.25  55.    58.75  62.5   66.25  70.    73.75  77.5   81.25\n",
      "   85.    88.75  92.5   96.25 100.  ]]\n"
     ]
    }
   ],
   "source": [
    "Gaurav = np.linspace(10,100,25)\n",
    "print(Gaurav)\n",
    "\n",
    "print(f\"Dimension of this array is : \",Gaurav.ndim)\n",
    "print(f\"Shape of this array is : \",Gaurav.shape)\n",
    "print(f\"Total elements in this array is : \",np.size(Gaurav))\n",
    "print(f\"Data type of elements in this array is : \",Gaurav.dtype)\n",
    "print(f\"Total number of bytes in this array is : \",Gaurav.itemsize*Gaurav.size)\n",
    "print()\n",
    "\n",
    "\n",
    "print(\"Printing transpose of this matrix : \\n\")\n",
    "\n",
    "Gaurav_col = Gaurav.reshape(25,1)\n",
    "print(Gaurav_col)\n",
    "\n",
    "print(Gaurav_col.T)"
   ]
  },
  {
   "cell_type": "markdown",
   "id": "99d37bbd-e42b-46bb-9e49-8efab580e3a9",
   "metadata": {},
   "source": [
    "Q5. Create a 2-D Array of three rows and four columns, named ucs420_<your_name>>\n",
    "with following values – 10, 20, 30, 40, 50, 60, 70, 80, 90, 15, 20, 35. Compute the mean,\n",
    "median, max, min, unique elements. Reshape the array to four rows and three columns and\n",
    "name it as reshaped_ ucs420_<your_name>>. Resize the array to two rows and three\n",
    "columns and name it as resized_ ucs420_<your_name>>."
   ]
  },
  {
   "cell_type": "code",
   "execution_count": 12,
   "id": "8aa4c64f-0950-4f7c-a6d5-90473cf4ef42",
   "metadata": {},
   "outputs": [
    {
     "name": "stdout",
     "output_type": "stream",
     "text": [
      "Mean of this array is: 43.333333333333336\n",
      "Median of this array is: 37.5\n",
      "Maximum of this array is: 90\n",
      "Minimum of this array is: 10\n",
      "Unique elements in this array: [10 15 20 30 35 40 50 60 70 80 90]\n",
      "Reshaped array:\n",
      " [[10 20 30]\n",
      " [40 50 60]\n",
      " [70 80 90]\n",
      " [15 20 35]]\n",
      "Resized array:\n",
      " [[10 20 30]\n",
      " [40 50 60]]\n"
     ]
    }
   ],
   "source": [
    "UCS420_Gaurav = [[10, 20, 30, 40], [50, 60, 70, 80], [90, 15, 20, 35]]\n",
    "\n",
    "print(\"Mean of this array is:\", np.mean(UCS420_Gaurav))\n",
    "print(\"Median of this array is:\", np.median(UCS420_Gaurav))\n",
    "print(\"Maximum of this array is:\", np.max(UCS420_Gaurav))\n",
    "print(\"Minimum of this array is:\", np.min(UCS420_Gaurav))\n",
    "print(\"Unique elements in this array:\", np.unique(UCS420_Gaurav))\n",
    "\n",
    "reshaped_ucs420_Gaurav = np.reshape(UCS420_Gaurav, (4, 3))  \n",
    "print(\"Reshaped array:\\n\", reshaped_ucs420_Gaurav)\n",
    "\n",
    "resized_ucs420_Gaurav = np.resize(UCS420_Gaurav, (2, 3))  \n",
    "print(\"Resized array:\\n\", resized_ucs420_Gaurav)"
   ]
  }
 ],
 "metadata": {
  "kernelspec": {
   "display_name": "Python 3 (ipykernel)",
   "language": "python",
   "name": "python3"
  },
  "language_info": {
   "codemirror_mode": {
    "name": "ipython",
    "version": 3
   },
   "file_extension": ".py",
   "mimetype": "text/x-python",
   "name": "python",
   "nbconvert_exporter": "python",
   "pygments_lexer": "ipython3",
   "version": "3.12.5"
  }
 },
 "nbformat": 4,
 "nbformat_minor": 5
}
