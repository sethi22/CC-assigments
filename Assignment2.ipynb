{
 "cells": [
  {
   "cell_type": "code",
   "execution_count": 1,
   "id": "44b943fc-39e1-4d6f-8ce7-d65f7e0b942c",
   "metadata": {},
   "outputs": [
    {
     "name": "stdout",
     "output_type": "stream",
     "text": [
      "[10, 20, 30, 40, 50, 60, 70, 80, 200, 300]\n"
     ]
    }
   ],
   "source": [
    "# Given list L = [10, 20, 30, 40, 50, 60, 70, 80]\n",
    "# 1.1 WAP to add 200 and 300 to L.\n",
    "\n",
    "L = [10, 20, 30, 40, 50, 60, 70, 80]\n",
    "\n",
    "L.append(200)\n",
    "L.append(300)\n",
    "print(L)\n"
   ]
  },
  {
   "cell_type": "code",
   "execution_count": 2,
   "id": "5035e703-f5ad-49e6-b977-56f1282dd319",
   "metadata": {},
   "outputs": [
    {
     "name": "stdout",
     "output_type": "stream",
     "text": [
      "[20, 40, 50, 60, 70, 80]\n"
     ]
    }
   ],
   "source": [
    "# 1.2 WAP to remove 10 and 30 from L.\n",
    "\n",
    "L = [10, 20, 30, 40, 50, 60, 70, 80]\n",
    "\n",
    "L.remove(10)\n",
    "L.remove(30)\n",
    "print(L)\n"
   ]
  },
  {
   "cell_type": "code",
   "execution_count": 3,
   "id": "076be0c8-13e7-417d-a9fe-0d32fdb62542",
   "metadata": {},
   "outputs": [
    {
     "name": "stdout",
     "output_type": "stream",
     "text": [
      "[10, 20, 30, 40, 50, 60, 70, 80]\n"
     ]
    }
   ],
   "source": [
    "# 1.3 WAP to sort L in ascending order.\n",
    "\n",
    "L = [10, 20, 30, 40, 50, 60, 70, 80]\n",
    "\n",
    "L.sort()\n",
    "print(L)"
   ]
  },
  {
   "cell_type": "code",
   "execution_count": 4,
   "id": "ab2dd3b0-30dc-4087-8b2c-532536022938",
   "metadata": {},
   "outputs": [
    {
     "name": "stdout",
     "output_type": "stream",
     "text": [
      "[80, 70, 60, 50, 40, 30, 20, 10]\n"
     ]
    }
   ],
   "source": [
    "# 1.4 WAP to sort L in descending order.\n",
    "\n",
    "L = [10, 20, 30, 40, 50, 60, 70, 80]\n",
    "\n",
    "L.sort(reverse=True)\n",
    "print(L)"
   ]
  },
  {
   "cell_type": "code",
   "execution_count": 7,
   "id": "55756da4-e7fd-4ed4-ab27-54be322488f5",
   "metadata": {},
   "outputs": [
    {
     "name": "stdout",
     "output_type": "stream",
     "text": [
      "The highest score is : 92\n",
      "Index of highest score: 5\n"
     ]
    }
   ],
   "source": [
    "# Given tuple : (45, 89.5, 76, 45.4, 89, 92, 58, 45)\n",
    "# 2.1 Identify the highest score and its index in the tuple.\n",
    "\n",
    "scores = (45, 89.5, 76, 45.4, 89, 92, 58, 45)\n",
    "highest_score = max(scores)\n",
    "index_highest_score = scores.index(highest_score)\n",
    "\n",
    "print(\"The highest score is :\",highest_score)\n",
    "print(\"Index of highest score:\",index_highest_score)"
   ]
  },
  {
   "cell_type": "code",
   "execution_count": 8,
   "id": "99096382-ec3f-402a-8f69-f3fedcd63068",
   "metadata": {},
   "outputs": [
    {
     "name": "stdout",
     "output_type": "stream",
     "text": [
      "Lowest score: 45\n",
      "Count of lowest score: 2\n"
     ]
    }
   ],
   "source": [
    "# 2.2 Find the lowest score and count how many times it appears.\n",
    "\n",
    "scores = (45, 89.5, 76, 45.4, 89, 92, 58, 45)\n",
    "lowest_score = min(scores)\n",
    "count_of_lowest = scores.count(lowest_score)\n",
    "\n",
    "print(\"Lowest score:\", lowest_score) \n",
    "print(\"Count of lowest score:\", count_of_lowest)"
   ]
  },
  {
   "cell_type": "code",
   "execution_count": 9,
   "id": "31a7991a-238d-4f18-a1ac-708cb2ad137a",
   "metadata": {},
   "outputs": [
    {
     "name": "stdout",
     "output_type": "stream",
     "text": [
      "Reversed tuple as a list: [45, 58, 92, 89, 45.4, 76, 89.5, 45]\n"
     ]
    }
   ],
   "source": [
    "# 2.3 Reverse the tuple and return it as a list.\n",
    "\n",
    "scores = (45, 89.5, 76, 45.4, 89, 92, 58, 45)\n",
    "reversed_tuple = tuple(reversed(scores))\n",
    "reversed_list = list(reversed_tuple)\n",
    "\n",
    "print(\"Reversed tuple as a list:\", reversed_list)"
   ]
  },
  {
   "cell_type": "code",
   "execution_count": 14,
   "id": "46a8bf2b-3424-4c12-9a41-f807d8ad275f",
   "metadata": {},
   "outputs": [
    {
     "name": "stdout",
     "output_type": "stream",
     "text": [
      "Specific score is present at index: 2\n"
     ]
    }
   ],
   "source": [
    "# 2.4 Check if a specific score ‘76’ (input by the user) is present in the tuple and print its first occurrence index, or a message saying it’s not present\n",
    "\n",
    "specific_score = 76\n",
    "if specific_score in scores:\n",
    "    first_occurrence_index = scores.index(specific_score)  \n",
    "    print(\"Specific score is present at index:\", first_occurrence_index)\n",
    "else:\n",
    "    print(\"Specific score is not present in the tuple\")"
   ]
  },
  {
   "cell_type": "code",
   "execution_count": 13,
   "id": "f3326eb4-8ce9-4e60-8508-4766e1c7d491",
   "metadata": {},
   "outputs": [
    {
     "name": "stdout",
     "output_type": "stream",
     "text": [
      "\n",
      "Total Odd Numbers: 52\n",
      "Odd Numbers: [865, 189, 183, 313, 195, 553, 551, 681, 103, 575, 415, 711, 539, 325, 241, 575, 337, 721, 123, 661, 197, 303, 815, 781, 847, 677, 579, 209, 709, 299, 879, 103, 335, 695, 601, 571, 807, 155, 655, 803, 125, 525, 685, 729, 261, 833, 421, 857, 657, 209, 151, 401]\n",
      "\n",
      "Total Even Numbers: 48\n",
      "Even Numbers: [402, 784, 506, 338, 202, 858, 328, 722, 534, 600, 890, 838, 704, 334, 736, 562, 540, 168, 266, 508, 102, 656, 414, 242, 104, 232, 820, 336, 656, 462, 870, 534, 326, 652, 416, 132, 382, 552, 450, 622, 280, 460, 718, 372, 486, 854, 484, 800]\n",
      "\n",
      "Total Prime Numbers: 15\n",
      "Prime Numbers: [313, 103, 241, 337, 661, 197, 677, 709, 103, 601, 571, 421, 857, 151, 401]\n"
     ]
    }
   ],
   "source": [
    "# Create a list of 100 random numbers between 100 and 900.\n",
    "\n",
    "import random\n",
    "random_numbers = [random.randint(100, 900) for _ in range(100)]\n",
    "\n",
    "# 3.1 Count and print all odd numbers\n",
    "odd_numbers = [num for num in random_numbers if num % 2 != 0]\n",
    "print(\"\\nTotal Odd Numbers:\", len(odd_numbers))\n",
    "print(\"Odd Numbers:\", odd_numbers)\n",
    "\n",
    "#3.2 Count and print all even numbers\n",
    "even_numbers = [num for num in random_numbers if num % 2 == 0]\n",
    "print(\"\\nTotal Even Numbers:\", len(even_numbers))\n",
    "print(\"Even Numbers:\", even_numbers)\n",
    "\n",
    "#3.3 Count and print all prime numbers\n",
    "def is_prime(num):\n",
    "    if num < 2:\n",
    "        return False\n",
    "    for i in range(2, int(num**0.5) + 1):\n",
    "        if num % i == 0:\n",
    "            return False\n",
    "    return True\n",
    "\n",
    "prime_numbers = [num for num in random_numbers if is_prime(num)]\n",
    "print(\"\\nTotal Prime Numbers:\", len(prime_numbers))\n",
    "print(\"Prime Numbers:\", prime_numbers)"
   ]
  },
  {
   "cell_type": "code",
   "execution_count": 17,
   "id": "fa934120-b5cd-436a-9e02-a743e163ebd5",
   "metadata": {},
   "outputs": [
    {
     "name": "stdout",
     "output_type": "stream",
     "text": [
      "Unique scores (Union): {34, 45, 78, 23, 56, 90}\n",
      "\n",
      "Common scores (Intersection): {90, 78}\n",
      "\n",
      "Exclusive scores (Symmetric Difference): {34, 45, 23, 56}\n",
      "\n",
      "Is team A's scores a subset of team B? False\n",
      "Is team B's scores a superset of team A? False\n",
      "\n"
     ]
    },
    {
     "name": "stdin",
     "output_type": "stream",
     "text": [
      "Enter a score to remove from team A:  34\n"
     ]
    },
    {
     "name": "stdout",
     "output_type": "stream",
     "text": [
      "Score 34 removed from team A. Updated team A scores: {56, 90, 78}\n"
     ]
    }
   ],
   "source": [
    "# Given : A = {34, 56, 78, 90} and B = {78, 45, 90, 23}\n",
    "A = {34, 56, 78, 90}\n",
    "B = {78, 45, 90, 23}\n",
    "\n",
    "#4.1 Find the unique scores achieved by both teams (union of sets).\n",
    "unique_scores = A.union(B)\n",
    "print(\"Unique scores (Union):\", unique_scores)\n",
    "print()\n",
    "\n",
    "#4.2 Identify the scores that are common to both teams (intersecƟon of sets).\n",
    "common_scores = A.intersection(B)\n",
    "print(\"Common scores (Intersection):\", common_scores)\n",
    "print()\n",
    "\n",
    "#4.3 Find the scores that are exclusive to each team (symmetric difference).\n",
    "exclusive_scores = A.symmetric_difference(B)\n",
    "print(\"Exclusive scores (Symmetric Difference):\", exclusive_scores)\n",
    "print()\n",
    "\n",
    "#4.4 Are scores of team A are a subset of team B, and if team B's scores are a superset of team A.\n",
    "is_subset = A.issubset(B)\n",
    "is_superset = B.issuperset(A)\n",
    "print(\"Is team A's scores a subset of team B?\", is_subset)\n",
    "print(\"Is team B's scores a superset of team A?\", is_superset)\n",
    "print()\n",
    "\n",
    "#4.5 Remove a specific score X (input by the user) from set A if it exists. If not, print a message saying it is not present.\n",
    "X = int(input(\"Enter a score to remove from team A: \"))\n",
    "if X in A:\n",
    "    A.remove(X)\n",
    "    print(f\"Score {X} removed from team A. Updated team A scores:\", A)\n",
    "else:\n",
    "    print(f\"Score {X} is not present in team A.\")\n",
    "    print()"
   ]
  },
  {
   "cell_type": "code",
   "execution_count": 19,
   "id": "f1741ace-3706-42a4-8836-9556c7dde459",
   "metadata": {},
   "outputs": [
    {
     "name": "stdout",
     "output_type": "stream",
     "text": [
      "Updated dictionary: {'Name': 'Anish', 'Age': 19, 'Salary': 800000, 'location': 'New York'}\n"
     ]
    }
   ],
   "source": [
    "# 5.1 Write a program to rename a key city to a locaƟon in the following dictionary.\n",
    "\n",
    "data = {\"Name\": \"Anish\",\n",
    "        \"Age\": 19,\n",
    "        \"Salary\": 800000,\n",
    "        \"City\": \"New York\"}\n",
    "\n",
    "if \"City\" in data:\n",
    "    data[\"location\"] = data.pop(\"City\")\n",
    "\n",
    "print(\"Updated dictionary:\", data)"
   ]
  }
 ],
 "metadata": {
  "kernelspec": {
   "display_name": "Python 3 (ipykernel)",
   "language": "python",
   "name": "python3"
  },
  "language_info": {
   "codemirror_mode": {
    "name": "ipython",
    "version": 3
   },
   "file_extension": ".py",
   "mimetype": "text/x-python",
   "name": "python",
   "nbconvert_exporter": "python",
   "pygments_lexer": "ipython3",
   "version": "3.12.5"
  }
 },
 "nbformat": 4,
 "nbformat_minor": 5
}
