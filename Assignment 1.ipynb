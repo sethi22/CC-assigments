{
 "cells": [
  {
   "cell_type": "code",
   "execution_count": 1,
   "id": "922c05c4-2c07-47f7-a30b-45cce9953c88",
   "metadata": {},
   "outputs": [
    {
     "name": "stdout",
     "output_type": "stream",
     "text": [
      "Gaurav Sethi\n",
      "Gaurav Sethi\n",
      "Gaurav Sethi\n"
     ]
    }
   ],
   "source": [
    "# Assignment 1.1: WAP to print your name three times\n",
    "\n",
    "for i in range(0,3):\n",
    "    print(\"Gaurav Sethi\")\n",
    "    "
   ]
  },
  {
   "cell_type": "code",
   "execution_count": 1,
   "id": "680f2889-dacc-4a96-bf8d-fa3723aded0d",
   "metadata": {},
   "outputs": [
    {
     "name": "stdout",
     "output_type": "stream",
     "text": [
      "Sum is :  18\n"
     ]
    }
   ],
   "source": [
    "# Assignment 2.1: WAP to add three numbers and print the result\n",
    "\n",
    "a = 5\n",
    "b = 6\n",
    "c = 7\n",
    "\n",
    "sum = a+b+c\n",
    "print(\"Sum is : \",sum)\n"
   ]
  },
  {
   "cell_type": "code",
   "execution_count": 2,
   "id": "d846ff34-ef9e-49e7-be4a-5621934e10b0",
   "metadata": {},
   "outputs": [
    {
     "name": "stdout",
     "output_type": "stream",
     "text": [
      "The concatenated string is :  Hello World !\n"
     ]
    }
   ],
   "source": [
    "# Assignment 2.2: WAP to concatinate three strings and print the result\n",
    "\n",
    "str1 = \"Hello\"\n",
    "str2 = \"World\"\n",
    "str3 = \"!\"\n",
    "\n",
    "result = str1 + \" \" + str2 + \" \" + str3\n",
    "\n",
    "print(\"The concatenated string is : \",result)\n"
   ]
  },
  {
   "cell_type": "code",
   "execution_count": 5,
   "id": "abe9c59d-8228-4304-94b9-4c84e1c871c8",
   "metadata": {},
   "outputs": [
    {
     "name": "stdout",
     "output_type": "stream",
     "text": [
      "Table of 7 : \n",
      "7  *  1  =  7\n",
      "7  *  2  =  14\n",
      "7  *  3  =  21\n",
      "7  *  4  =  28\n",
      "7  *  5  =  35\n",
      "7  *  6  =  42\n",
      "7  *  7  =  49\n",
      "7  *  8  =  56\n",
      "7  *  9  =  63\n",
      "7  *  10  =  70\n",
      "\n",
      "Table of 9 : \n",
      "9  *  1  =  9\n",
      "9  *  2  =  18\n",
      "9  *  3  =  27\n",
      "9  *  4  =  36\n",
      "9  *  5  =  45\n",
      "9  *  6  =  54\n",
      "9  *  7  =  63\n",
      "9  *  8  =  72\n",
      "9  *  9  =  81\n",
      "9  *  10  =  90\n"
     ]
    }
   ],
   "source": [
    "# Assignment 4.1: WAP to print the table of 7, 9\n",
    "\n",
    "print(\"Table of 7 : \")\n",
    "for i in range(1,11):\n",
    "    print(7,\" * \",i,\" = \",7*i)\n",
    "    \n",
    "print()\n",
    "\n",
    "print(\"Table of 9 : \")\n",
    "for i in range(1,11):\n",
    "    print(9,\" * \",i,\" = \",9*i)"
   ]
  },
  {
   "cell_type": "code",
   "execution_count": 8,
   "id": "392dd6a8-8cfb-44fa-82a7-671cefecba0b",
   "metadata": {},
   "outputs": [
    {
     "name": "stdin",
     "output_type": "stream",
     "text": [
      "Enter a number :  6\n"
     ]
    },
    {
     "name": "stdout",
     "output_type": "stream",
     "text": [
      "\n",
      "6  *  1  =  6\n",
      "6  *  2  =  12\n",
      "6  *  3  =  18\n",
      "6  *  4  =  24\n",
      "6  *  5  =  30\n",
      "6  *  6  =  36\n",
      "6  *  7  =  42\n",
      "6  *  8  =  48\n",
      "6  *  9  =  54\n",
      "6  *  10  =  60\n"
     ]
    }
   ],
   "source": [
    "# Assignment 4.2: WAP to print the table of n and n is given by user\n",
    "\n",
    "n = int(input(\"Enter a number : \"))\n",
    "print()\n",
    "\n",
    "for i in range(1,11):\n",
    "        print(n,\" * \",i,\" = \",n*i)\n"
   ]
  },
  {
   "cell_type": "code",
   "execution_count": 11,
   "id": "962b903b-3043-4ef8-a409-f0e4992cc5fb",
   "metadata": {},
   "outputs": [
    {
     "name": "stdin",
     "output_type": "stream",
     "text": [
      "Enter a number :  5\n"
     ]
    },
    {
     "name": "stdout",
     "output_type": "stream",
     "text": [
      "Sum of first 5 natural numbers is :  15\n"
     ]
    }
   ],
   "source": [
    "# Assignment 4.3: WAP to add all the numbers from 1 to n and n is given by user\n",
    "\n",
    "n = int(input(\"Enter a number : \"))\n",
    "total = 0\n",
    "\n",
    "for i in range(1,n+1):\n",
    "    total = total + i\n",
    "\n",
    "print(\"Sum of first\", n ,\"natural numbers is : \",total)\n"
   ]
  },
  {
   "cell_type": "code",
   "execution_count": 15,
   "id": "2c25eb87-461d-4922-922a-ca3f731439ce",
   "metadata": {},
   "outputs": [
    {
     "name": "stdin",
     "output_type": "stream",
     "text": [
      "Enter a number :  11\n",
      "Enter a number :  45\n",
      "Enter a number :  -10\n"
     ]
    },
    {
     "name": "stdout",
     "output_type": "stream",
     "text": [
      "Maximum number from entered three numbers is :  45\n",
      "\n"
     ]
    }
   ],
   "source": [
    "# Assignment 5.1: WAP to find max amoung three numbers and input from user. [Try max() function]\n",
    "\n",
    "a = int(input(\"Enter a number : \"))\n",
    "b = int(input(\"Enter a number : \"))\n",
    "c = int(input(\"Enter a number : \"))\n",
    "print(\"Maximum number from entered three numbers is : \",max(a,b,c))\n",
    "print()"
   ]
  },
  {
   "cell_type": "code",
   "execution_count": 18,
   "id": "1815e34a-1119-452b-8786-3cbff26f2af6",
   "metadata": {},
   "outputs": [
    {
     "name": "stdin",
     "output_type": "stream",
     "text": [
      "Enter the value of n :  70\n"
     ]
    },
    {
     "name": "stdout",
     "output_type": "stream",
     "text": [
      "Sum of numbers divisible by 7 and 9 from 1 to 70  is :  63\n"
     ]
    }
   ],
   "source": [
    "# Assignment 5.2: WAP to add all numbers divisible by 7 and 9 from 1 to n and n is given by the user\n",
    "\n",
    "n = int(input(\"Enter the value of n : \"))\n",
    "total = 0\n",
    "\n",
    "for i in range(1, n + 1):\n",
    "    if i % 7 == 0 and i % 9 == 0:\n",
    "        total = total + i\n",
    "print(\"Sum of numbers divisible by 7 and 9 from 1 to\", n ,\" is : \", total)"
   ]
  },
  {
   "cell_type": "code",
   "execution_count": 28,
   "id": "9974c318-6b7d-43e7-9e7d-0b24a0e0f9d3",
   "metadata": {},
   "outputs": [
    {
     "name": "stdin",
     "output_type": "stream",
     "text": [
      "Enter the value of n:  20\n"
     ]
    },
    {
     "name": "stdout",
     "output_type": "stream",
     "text": [
      "Sum of prime numbers from 1 to  20  is:  77\n"
     ]
    }
   ],
   "source": [
    "# Assignment 5.3: WAP to add all prime numbers from 1 to n and n is given by the user\n",
    "\n",
    "n = int(input(\"Enter the value of n: \"))\n",
    "sum_of_primes = 0\n",
    "\n",
    "for num in range(2, n + 1):\n",
    "    is_prime = True\n",
    "    for i in range(2, num):\n",
    "        if num % i == 0:\n",
    "            is_prime = False\n",
    "            break\n",
    "\n",
    "    if is_prime:\n",
    "        sum_of_primes = sum_of_primes + num\n",
    "\n",
    "print(\"Sum of prime numbers from 1 to \", n, \" is: \" , sum_of_primes)"
   ]
  },
  {
   "cell_type": "code",
   "execution_count": 27,
   "id": "2fda0e63-5851-4ab0-82a6-c9af229b079c",
   "metadata": {},
   "outputs": [
    {
     "name": "stdin",
     "output_type": "stream",
     "text": [
      "Enter the value of n :  10\n"
     ]
    },
    {
     "name": "stdout",
     "output_type": "stream",
     "text": [
      "Sum of odd numbers from 1 to 10 is: 25\n"
     ]
    }
   ],
   "source": [
    "# Assignment 6.1: WAP using function that add all odd numbers from 1 to n, n is given by the user\n",
    "\n",
    "def oddSum(n):\n",
    "    total = 0\n",
    "    for i in range(1, n + 1, 2):\n",
    "        total = total + i\n",
    "    return total\n",
    "\n",
    "n = int(input(\"Enter the value of n : \"))\n",
    "print(\"Sum of odd numbers from 1 to\", n, \"is:\", oddSum(n))"
   ]
  },
  {
   "cell_type": "code",
   "execution_count": 30,
   "id": "08792247-673f-4c3a-a067-e9bcb0a3390b",
   "metadata": {},
   "outputs": [
    {
     "name": "stdin",
     "output_type": "stream",
     "text": [
      "Enter the value of n:  10\n"
     ]
    },
    {
     "name": "stdout",
     "output_type": "stream",
     "text": [
      "Sum of all prime numbers from 1 to 10 is: 17\n"
     ]
    }
   ],
   "source": [
    "# Assignment 6.2: WAP using function that add all prime numbers from 1 to n, n given by the user\n",
    "\n",
    "n = int(input(\"Enter the value of n: \"))\n",
    "sum_of_primes = 0\n",
    "\n",
    "def is_prime(num):\n",
    "    if num <= 1:\n",
    "        return False\n",
    "    for i in range(2, num):\n",
    "        if num % i == 0:\n",
    "            return False\n",
    "    return True\n",
    "\n",
    "for i in range(2, n + 1):\n",
    "    if is_prime(i):\n",
    "        sum_of_primes += i\n",
    "\n",
    "print(\"Sum of all prime numbers from 1 to\", n, \"is:\", sum_of_primes)"
   ]
  }
 ],
 "metadata": {
  "kernelspec": {
   "display_name": "Python 3 (ipykernel)",
   "language": "python",
   "name": "python3"
  },
  "language_info": {
   "codemirror_mode": {
    "name": "ipython",
    "version": 3
   },
   "file_extension": ".py",
   "mimetype": "text/x-python",
   "name": "python",
   "nbconvert_exporter": "python",
   "pygments_lexer": "ipython3",
   "version": "3.12.5"
  }
 },
 "nbformat": 4,
 "nbformat_minor": 5
}
